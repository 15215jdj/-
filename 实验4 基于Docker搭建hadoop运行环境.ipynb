{
 "cells": [
  {
   "cell_type": "markdown",
   "id": "b75cfae5",
   "metadata": {
    "toc": true
   },
   "source": [
    "<h1>实验1 基于虚拟机搭建hadoop运行环境<span class=\"tocSkip\"></span></h1>\n",
    "<div class=\"toc\"><ul class=\"toc-item\"><li><span><a href=\"#单机运行模式（standalone）\" data-toc-modified-id=\"单机运行模式（standalone）-1\"><span class=\"toc-item-num\">1&nbsp;&nbsp;</span>单机运行模式（standalone）</a></span><ul class=\"toc-item\"><li><span><a href=\"#启动ubuntu容器\" data-toc-modified-id=\"启动ubuntu容器-1.1\"><span class=\"toc-item-num\">1.1&nbsp;&nbsp;</span>启动ubuntu容器</a></span></li><li><span><a href=\"#修改源为国内镜像\" data-toc-modified-id=\"修改源为国内镜像-1.2\"><span class=\"toc-item-num\">1.2&nbsp;&nbsp;</span>修改源为国内镜像</a></span></li><li><span><a href=\"#配置SSH免密登录\" data-toc-modified-id=\"配置SSH免密登录-1.3\"><span class=\"toc-item-num\">1.3&nbsp;&nbsp;</span>配置SSH免密登录</a></span></li><li><span><a href=\"#配置-JAVA\" data-toc-modified-id=\"配置-JAVA-1.4\"><span class=\"toc-item-num\">1.4&nbsp;&nbsp;</span>配置 JAVA</a></span></li><li><span><a href=\"#安装-Hadoop\" data-toc-modified-id=\"安装-Hadoop-1.5\"><span class=\"toc-item-num\">1.5&nbsp;&nbsp;</span>安装 Hadoop</a></span></li><li><span><a href=\"#官方-Grep-案例\" data-toc-modified-id=\"官方-Grep-案例-1.6\"><span class=\"toc-item-num\">1.6&nbsp;&nbsp;</span>官方 Grep 案例</a></span></li><li><span><a href=\"#官方-WordCount-案例\" data-toc-modified-id=\"官方-WordCount-案例-1.7\"><span class=\"toc-item-num\">1.7&nbsp;&nbsp;</span>官方 WordCount 案例</a></span></li></ul></li><li><span><a href=\"#伪分布式运行模式（Pseudo-Cluster）\" data-toc-modified-id=\"伪分布式运行模式（Pseudo-Cluster）-2\"><span class=\"toc-item-num\">2&nbsp;&nbsp;</span>伪分布式运行模式（Pseudo-Cluster）</a></span><ul class=\"toc-item\"><li><span><a href=\"#伪分布式运行模式容器\" data-toc-modified-id=\"伪分布式运行模式容器-2.1\"><span class=\"toc-item-num\">2.1&nbsp;&nbsp;</span>伪分布式运行模式容器</a></span></li><li><span><a href=\"#启动-HDFS-并运行-MapReduce-程序\" data-toc-modified-id=\"启动-HDFS-并运行-MapReduce-程序-2.2\"><span class=\"toc-item-num\">2.2&nbsp;&nbsp;</span>启动 HDFS 并运行 MapReduce 程序</a></span></li><li><span><a href=\"#启动-YARN-并运行-MapReduce-程序\" data-toc-modified-id=\"启动-YARN-并运行-MapReduce-程序-2.3\"><span class=\"toc-item-num\">2.3&nbsp;&nbsp;</span>启动 YARN 并运行 MapReduce 程序</a></span></li><li><span><a href=\"#配置历史服务器\" data-toc-modified-id=\"配置历史服务器-2.4\"><span class=\"toc-item-num\">2.4&nbsp;&nbsp;</span>配置历史服务器</a></span></li><li><span><a href=\"#配置日志的聚集\" data-toc-modified-id=\"配置日志的聚集-2.5\"><span class=\"toc-item-num\">2.5&nbsp;&nbsp;</span>配置日志的聚集</a></span></li></ul></li><li><span><a href=\"#完全分布式运行模式（Cluster）\" data-toc-modified-id=\"完全分布式运行模式（Cluster）-3\"><span class=\"toc-item-num\">3&nbsp;&nbsp;</span>完全分布式运行模式（Cluster）</a></span><ul class=\"toc-item\"><li><span><a href=\"#创建子网络\" data-toc-modified-id=\"创建子网络-3.1\"><span class=\"toc-item-num\">3.1&nbsp;&nbsp;</span>创建子网络</a></span></li><li><span><a href=\"#创建容器\" data-toc-modified-id=\"创建容器-3.2\"><span class=\"toc-item-num\">3.2&nbsp;&nbsp;</span>创建容器</a></span></li><li><span><a href=\"#SSH免密登录\" data-toc-modified-id=\"SSH免密登录-3.3\"><span class=\"toc-item-num\">3.3&nbsp;&nbsp;</span>SSH免密登录</a></span></li><li><span><a href=\"#编写集群分发脚本-xsync\" data-toc-modified-id=\"编写集群分发脚本-xsync-3.4\"><span class=\"toc-item-num\">3.4&nbsp;&nbsp;</span>编写集群分发脚本 xsync</a></span></li><li><span><a href=\"#集群配置\" data-toc-modified-id=\"集群配置-3.5\"><span class=\"toc-item-num\">3.5&nbsp;&nbsp;</span>集群配置</a></span><ul class=\"toc-item\"><li><span><a href=\"#部署规划\" data-toc-modified-id=\"部署规划-3.5.1\"><span class=\"toc-item-num\">3.5.1&nbsp;&nbsp;</span>部署规划</a></span></li><li><span><a href=\"#配置集群\" data-toc-modified-id=\"配置集群-3.5.2\"><span class=\"toc-item-num\">3.5.2&nbsp;&nbsp;</span>配置集群</a></span></li></ul></li><li><span><a href=\"#集群运行\" data-toc-modified-id=\"集群运行-3.6\"><span class=\"toc-item-num\">3.6&nbsp;&nbsp;</span>集群运行</a></span><ul class=\"toc-item\"><li><span><a href=\"#集群单点启动\" data-toc-modified-id=\"集群单点启动-3.6.1\"><span class=\"toc-item-num\">3.6.1&nbsp;&nbsp;</span>集群单点启动</a></span></li><li><span><a href=\"#集群单点停止\" data-toc-modified-id=\"集群单点停止-3.6.2\"><span class=\"toc-item-num\">3.6.2&nbsp;&nbsp;</span>集群单点停止</a></span></li><li><span><a href=\"#群起集群\" data-toc-modified-id=\"群起集群-3.6.3\"><span class=\"toc-item-num\">3.6.3&nbsp;&nbsp;</span>群起集群</a></span></li></ul></li></ul></li><li><span><a href=\"#容器重启后集群启动方法\" data-toc-modified-id=\"容器重启后集群启动方法-4\"><span class=\"toc-item-num\">4&nbsp;&nbsp;</span>容器重启后集群启动方法</a></span></li></ul></div>"
   ]
  },
  {
   "cell_type": "markdown",
   "id": "d3c5c4d5",
   "metadata": {},
   "source": [
    "Hadoop 的运行模式:"
   ]
  },
  {
   "cell_type": "markdown",
   "id": "fda7699b",
   "metadata": {},
   "source": [
    "Hadoop 的运行模式包括：单机模式、伪分布式模式、完全分布式模式。"
   ]
  },
  {
   "cell_type": "markdown",
   "id": "369e0ee1",
   "metadata": {},
   "source": [
    "# 单机运行模式（standalone）"
   ]
  },
  {
   "cell_type": "markdown",
   "id": "530e7e01",
   "metadata": {},
   "source": [
    "## 启动ubuntu容器"
   ]
  },
  {
   "cell_type": "markdown",
   "id": "68cfc56a",
   "metadata": {},
   "source": [
    "1. 拉取一个 ubuntu 的镜像"
   ]
  },
  {
   "cell_type": "raw",
   "id": "5011ca83",
   "metadata": {},
   "source": [
    "> docker pull ubuntu:18.04"
   ]
  },
  {
   "cell_type": "raw",
   "id": "0c2c0d35",
   "metadata": {},
   "source": [
    "PS C:\\Windows\\system32> docker pull ubuntu:18.04\n",
    "18.04: Pulling from library/ubuntu\n",
    "284055322776: Pull complete\n",
    "Digest: sha256:0fedbd5bd9fb72089c7bbca476949e10593cebed9b1fb9edf5b79dbbacddd7d6\n",
    "Status: Downloaded newer image for ubuntu:18.04\n",
    "docker.io/library/ubuntu:18.04"
   ]
  },
  {
   "cell_type": "markdown",
   "id": "cc662086",
   "metadata": {},
   "source": [
    "2. 创建容器并启用"
   ]
  },
  {
   "cell_type": "raw",
   "id": "0e7e9454",
   "metadata": {},
   "source": [
    "windows宿主机创建卷路径： md E:/Dockers/standalone"
   ]
  },
  {
   "cell_type": "markdown",
   "id": "a5d81aa4",
   "metadata": {},
   "source": [
    "2. 启动ubuntu容器"
   ]
  },
  {
   "cell_type": "markdown",
   "id": "65baf23f",
   "metadata": {},
   "source": [
    "通过下面命令创建container："
   ]
  },
  {
   "cell_type": "raw",
   "id": "18280e57",
   "metadata": {},
   "source": [
    "> docker run -v E:/Dockers/standalone:/opt/ -itd --name standalone --hostname standalone ubuntu:18.04"
   ]
  },
  {
   "cell_type": "raw",
   "id": "f99c8e5b",
   "metadata": {},
   "source": [
    "PS C:\\Windows\\system32> docker run -v E:/Dockers/standalone:/opt/ -itd --name standalone --hostname standalone ubuntu:18.04\n",
    "91a147295d7b3adbcb90fa551b53e86d46891317e93314f3002fc619f9b60e61\n",
    "PS C:\\Windows\\system32>"
   ]
  },
  {
   "cell_type": "markdown",
   "id": "fda3a366",
   "metadata": {},
   "source": [
    "## 修改源为国内镜像"
   ]
  },
  {
   "cell_type": "markdown",
   "id": "842fbcc7",
   "metadata": {},
   "source": [
    "1. 创建文件sources.list"
   ]
  },
  {
   "cell_type": "markdown",
   "id": "b5f53184",
   "metadata": {},
   "source": [
    "由于该镜像apt-get指定的代理是ubantu的，所以需要修改，不然无法get到东西。查找sources.list，本文件是可以通过修改apt-get源，但是缺乏vim，所以这里我直接通过在 E:/Dockers/standalone 下创建文件sources.list"
   ]
  },
  {
   "cell_type": "raw",
   "id": "ed77d1ba",
   "metadata": {},
   "source": [
    "deb http://mirrors.aliyun.com/ubuntu/ trusty main restricted universe multiverse\n",
    "deb http://mirrors.aliyun.com/ubuntu/ trusty-security main restricted universe multiverse\n",
    "deb http://mirrors.aliyun.com/ubuntu/ trusty-updates main restricted universe multiverse\n",
    "deb http://mirrors.aliyun.com/ubuntu/ trusty-proposed main restricted universe multiverse\n",
    "deb http://mirrors.aliyun.com/ubuntu/ trusty-backports main restricted universe multiverse\n",
    "deb-src http://mirrors.aliyun.com/ubuntu/ trusty main restricted universe multiverse\n",
    "deb-src http://mirrors.aliyun.com/ubuntu/ trusty-security main restricted universe multiverse\n",
    "deb-src http://mirrors.aliyun.com/ubuntu/ trusty-updates main restricted universe multiverse\n",
    "deb-src http://mirrors.aliyun.com/ubuntu/ trusty-proposed main restricted universe multiverse\n",
    "deb-src http://mirrors.aliyun.com/ubuntu/ trusty-backports main restricted universe multiverse"
   ]
  },
  {
   "cell_type": "markdown",
   "id": "521eec88",
   "metadata": {},
   "source": [
    "把以上写入 sources.list"
   ]
  },
  {
   "cell_type": "markdown",
   "id": "64f8efc9",
   "metadata": {},
   "source": [
    "2. 更新 apt-get 源"
   ]
  },
  {
   "cell_type": "markdown",
   "id": "73c7c338",
   "metadata": {},
   "source": [
    "- 进入容器 ubuntu后，在容器根目录下的 /opt 查看 sources.list\n",
    "\n",
    "- 并把 sources.list 复制到 /etc/apt/ 下，替换原来 sources.list\n",
    "\n",
    "- 输入apt-get update，即可更新 apt-get 源，可以使用 apt-get"
   ]
  },
  {
   "cell_type": "raw",
   "id": "2a0ad6a7",
   "metadata": {},
   "source": [
    "# bash\n",
    "# cd /opt\n",
    "# cp sources.list /etc/apt/\n",
    "# apt-get update"
   ]
  },
  {
   "cell_type": "markdown",
   "id": "48d018ae",
   "metadata": {},
   "source": [
    "3. 安装环境工具"
   ]
  },
  {
   "cell_type": "raw",
   "id": "eb08d734",
   "metadata": {},
   "source": [
    "# apt-get install -y vim net-tools openssh-server openssh-client iputils-ping"
   ]
  },
  {
   "cell_type": "markdown",
   "id": "297513f1",
   "metadata": {},
   "source": [
    "## 配置SSH免密登录"
   ]
  },
  {
   "cell_type": "markdown",
   "id": "9a60af38",
   "metadata": {},
   "source": [
    "1. 需要检查下ssh是否开启"
   ]
  },
  {
   "cell_type": "raw",
   "id": "359dff4f",
   "metadata": {},
   "source": [
    "# 启动ssh\n",
    "/etc/init.d/ssh start\n",
    "\n",
    "# 检查ssh是否开启\n",
    "/etc/init.d/ssh status"
   ]
  },
  {
   "cell_type": "markdown",
   "id": "cba7e97c",
   "metadata": {},
   "source": [
    "2. 配置SSH免密登录"
   ]
  },
  {
   "cell_type": "raw",
   "id": "371cec03",
   "metadata": {},
   "source": [
    "# 三次回车后，该目录下将会产生id_rsa，id_rsa.pub文件\n",
    "ssh-keygen -t rsa\n",
    "\n",
    "# 加入授权\n",
    "cd ~/.ssh/\n",
    "cat ~/.ssh/id_rsa.pub >> ~/.ssh/authorized_keys\n",
    "\n",
    "# 使用 ssh localhost 检查是否成功\n",
    "# 如果不提示输入密码则SSH无密登陆配置成功\n",
    "ssh localhost"
   ]
  },
  {
   "cell_type": "markdown",
   "id": "36ec8e61",
   "metadata": {},
   "source": [
    "## 配置 JAVA"
   ]
  },
  {
   "cell_type": "markdown",
   "id": "237fe40f",
   "metadata": {},
   "source": [
    "1. 下载JAVA JDK"
   ]
  },
  {
   "cell_type": "raw",
   "id": "cdf82cf5",
   "metadata": {},
   "source": [
    "首先先去下载Java的JDK安装包。点击Java下载地址：https://www.oracle.com/technetwork/java/javase/downloads/index.html （官网地址）\n",
    "\n",
    "jdk-8u321-linux-x64.tar.gz\n",
    "\n",
    "存放于： E:/Dockers/standalone"
   ]
  },
  {
   "cell_type": "markdown",
   "id": "d843bdbb",
   "metadata": {},
   "source": [
    "下面解压运行："
   ]
  },
  {
   "cell_type": "raw",
   "id": "84b29779",
   "metadata": {},
   "source": [
    "进入 /opt 目录下"
   ]
  },
  {
   "cell_type": "raw",
   "id": "2c5c919f",
   "metadata": {},
   "source": [
    "# cd /opt"
   ]
  },
  {
   "cell_type": "raw",
   "id": "a0a8dc27",
   "metadata": {},
   "source": [
    "# tar -xvf jdk-8u321-linux-x64.tar.gz"
   ]
  },
  {
   "cell_type": "markdown",
   "id": "24651646",
   "metadata": {},
   "source": [
    "5. 配置 JAVA 环境"
   ]
  },
  {
   "cell_type": "raw",
   "id": "c6a47b93",
   "metadata": {},
   "source": [
    "# vim /etc/profile"
   ]
  },
  {
   "cell_type": "markdown",
   "id": "29ad6f81",
   "metadata": {},
   "source": [
    "在打开的界面添加"
   ]
  },
  {
   "cell_type": "raw",
   "id": "e6a10d03",
   "metadata": {},
   "source": [
    "#set java environment\n",
    "export JAVA_HOME=/opt/jdk1.8.0_321\n",
    "export JRE_HOME=${JAVA_HOME}/jre\n",
    "export CLASSPATH=.:JAVA_HOME/lib:JRE_HOME/lib:${CLASSPATH}\n",
    "export PATH=$JAVA_HOME/bin:$JRE_HOME/bin:$PATH"
   ]
  },
  {
   "cell_type": "markdown",
   "id": "6d8fd92c",
   "metadata": {},
   "source": [
    "执行 source /etc/profile 生效"
   ]
  },
  {
   "cell_type": "raw",
   "id": "57ec205a",
   "metadata": {},
   "source": [
    "# source /etc/profile"
   ]
  },
  {
   "cell_type": "markdown",
   "id": "105e4a68",
   "metadata": {},
   "source": [
    "7. 测试JAVA 环境"
   ]
  },
  {
   "cell_type": "raw",
   "id": "9b8a2d70",
   "metadata": {},
   "source": [
    "# java -version"
   ]
  },
  {
   "cell_type": "markdown",
   "id": "99ddd474",
   "metadata": {},
   "source": [
    "## 安装 Hadoop"
   ]
  },
  {
   "cell_type": "markdown",
   "id": "9e08076c",
   "metadata": {},
   "source": [
    "Hadoop 官网 http://hadoop.apache.org/"
   ]
  },
  {
   "cell_type": "raw",
   "id": "840dae2e",
   "metadata": {},
   "source": [
    "下载 hadoop-2.7.7.tar.gz 到：E:\\Dockers\\standalone"
   ]
  },
  {
   "cell_type": "markdown",
   "id": "b2bf06ad",
   "metadata": {},
   "source": [
    "1. 解压并更换目录"
   ]
  },
  {
   "cell_type": "markdown",
   "id": "f63f8074",
   "metadata": {},
   "source": [
    "在存放 hadoop-2.7.7.tar.gz 的目录下进行解压"
   ]
  },
  {
   "cell_type": "raw",
   "id": "58b4d493",
   "metadata": {},
   "source": [
    "tar -xvf hadoop-2.7.7.tar.gz"
   ]
  },
  {
   "cell_type": "markdown",
   "id": "72b4f4e7",
   "metadata": {},
   "source": [
    "2. 配置 hadoop 环境变量"
   ]
  },
  {
   "cell_type": "raw",
   "id": "0017f3aa",
   "metadata": {},
   "source": [
    "# vim /etc/profile"
   ]
  },
  {
   "cell_type": "markdown",
   "id": "a6f512c5",
   "metadata": {},
   "source": [
    "在 /etc/profile 文件的尾部添加以下内容："
   ]
  },
  {
   "cell_type": "raw",
   "id": "7f244090",
   "metadata": {},
   "source": [
    "#HADOOP\n",
    "export HADOOP_HOME=/opt/hadoop-2.7.7\n",
    "export PATH=$PATH:$HADOOP_HOME/bin:$HADOOP_HOME/sbin"
   ]
  },
  {
   "cell_type": "markdown",
   "id": "fe3d54b8",
   "metadata": {},
   "source": [
    "使配置文件生效"
   ]
  },
  {
   "cell_type": "raw",
   "id": "cd7cb79b",
   "metadata": {},
   "source": [
    "source /etc/profile"
   ]
  },
  {
   "cell_type": "markdown",
   "id": "b079eb23",
   "metadata": {},
   "source": [
    "3. 测试是否安装成功"
   ]
  },
  {
   "cell_type": "raw",
   "id": "872f0f35",
   "metadata": {},
   "source": [
    "hadoop version"
   ]
  },
  {
   "cell_type": "markdown",
   "id": "a458ea35",
   "metadata": {},
   "source": [
    "## 官方 Grep 案例"
   ]
  },
  {
   "cell_type": "markdown",
   "id": "55275c64",
   "metadata": {},
   "source": [
    "1. 在 hadoop-2.7.7 文件下面创建一个 input 文件夹"
   ]
  },
  {
   "cell_type": "raw",
   "id": "23ed2dfa",
   "metadata": {},
   "source": [
    "cd /opt/hadoop-2.7.7\n",
    "\n",
    "mkdir input"
   ]
  },
  {
   "cell_type": "markdown",
   "id": "7c2f9b8b",
   "metadata": {},
   "source": [
    "2. 将 Hadoop 的 xml 配置文件复制到 input"
   ]
  },
  {
   "cell_type": "raw",
   "id": "539af975",
   "metadata": {},
   "source": [
    "cp etc/hadoop/*.xml input"
   ]
  },
  {
   "cell_type": "markdown",
   "id": "51891648",
   "metadata": {},
   "source": [
    "3. 在 hadoop-2.7.7 目录下，执行 share 目录下的 MapReduce 程序"
   ]
  },
  {
   "cell_type": "raw",
   "id": "fc95a718",
   "metadata": {},
   "source": [
    "hadoop jar share/hadoop/mapreduce/hadoop-mapreduce-examples-2.7.7.jar grep input/ output 'dfs[a-z.]+'"
   ]
  },
  {
   "cell_type": "markdown",
   "id": "52741594",
   "metadata": {},
   "source": [
    "4. 查看输出结果"
   ]
  },
  {
   "cell_type": "raw",
   "id": "1de12bad",
   "metadata": {},
   "source": [
    "cd output/\n",
    "ll"
   ]
  },
  {
   "cell_type": "raw",
   "id": "f846eae8",
   "metadata": {},
   "source": [
    "root@standalone:/opt/hadoop-2.7.7# cd output/\n",
    "root@standalone:/opt/hadoop-2.7.7/output# ll\n",
    "total 0\n",
    "drwxr-xr-x 1 root root  512 May 22 02:15 ./\n",
    "drwxr-xr-x 1 1000 staff 512 May 22 02:15 ../\n",
    "-rw-r--r-- 1 root root    8 May 22 02:15 ._SUCCESS.crc\n",
    "-rw-r--r-- 1 root root   12 May 22 02:15 .part-r-00000.crc\n",
    "-rw-r--r-- 1 root root    0 May 22 02:15 _SUCCESS\n",
    "-rw-r--r-- 1 root root   11 May 22 02:15 part-r-00000"
   ]
  },
  {
   "cell_type": "markdown",
   "id": "794a162a",
   "metadata": {},
   "source": [
    "## 官方 WordCount 案例"
   ]
  },
  {
   "cell_type": "markdown",
   "id": "3fb69bd6",
   "metadata": {},
   "source": [
    "1. 在 hadoop-2.7.7 文件下面创建一个 wcinput 文件夹"
   ]
  },
  {
   "cell_type": "raw",
   "id": "92ea02f9",
   "metadata": {},
   "source": [
    "cd /opt/hadoop-2.7.7\n",
    "\n",
    "mkdir wcinput"
   ]
  },
  {
   "cell_type": "markdown",
   "id": "21eb5565",
   "metadata": {},
   "source": [
    "2. 在 wcinput 文件下创建一个 wc.input 文件"
   ]
  },
  {
   "cell_type": "raw",
   "id": "50c422de",
   "metadata": {},
   "source": [
    "cd wcinput\n",
    "vim wc.input"
   ]
  },
  {
   "cell_type": "markdown",
   "id": "7432a8c7",
   "metadata": {},
   "source": [
    "在文件中输入以下内容："
   ]
  },
  {
   "cell_type": "raw",
   "id": "5af6cb9a",
   "metadata": {},
   "source": [
    "hadoop yarn\n",
    "hadoop mapreduce\n",
    "spark\n",
    "spark"
   ]
  },
  {
   "cell_type": "markdown",
   "id": "f648f32f",
   "metadata": {},
   "source": [
    "3. 在 hadoop-2.7.7 目录下，执行 share 目录下的 MapReduce 程序"
   ]
  },
  {
   "cell_type": "raw",
   "id": "365ef850",
   "metadata": {},
   "source": [
    "cd /opt/hadoop-2.7.7\n",
    "hadoop jar share/hadoop/mapreduce/hadoop-mapreduce-examples-2.7.7.jar wordcount wcinput/ wcoutput"
   ]
  },
  {
   "cell_type": "markdown",
   "id": "fb9560da",
   "metadata": {},
   "source": [
    "4. 查看结果"
   ]
  },
  {
   "cell_type": "raw",
   "id": "72c64dac",
   "metadata": {},
   "source": [
    "# cd wcoutput/\n",
    "# ll"
   ]
  },
  {
   "cell_type": "raw",
   "id": "307c4e0e",
   "metadata": {},
   "source": [
    "root@standalone:/opt/hadoop-2.7.7# cd wcoutput/\n",
    "root@standalone:/opt/hadoop-2.7.7/wcoutput# ll\n",
    "total 0\n",
    "drwxr-xr-x 1 root root  512 May 22 02:16 ./\n",
    "drwxr-xr-x 1 1000 staff 512 May 22 02:16 ../\n",
    "-rw-r--r-- 1 root root    8 May 22 02:16 ._SUCCESS.crc\n",
    "-rw-r--r-- 1 root root   12 May 22 02:16 .part-r-00000.crc\n",
    "-rw-r--r-- 1 root root    0 May 22 02:16 _SUCCESS\n",
    "-rw-r--r-- 1 root root   36 May 22 02:16 part-r-00000"
   ]
  },
  {
   "cell_type": "markdown",
   "id": "7bb4ed9d",
   "metadata": {},
   "source": [
    "# 伪分布式运行模式（Pseudo-Cluster）"
   ]
  },
  {
   "cell_type": "markdown",
   "id": "577d7cf1",
   "metadata": {},
   "source": [
    "## 伪分布式运行模式容器"
   ]
  },
  {
   "cell_type": "markdown",
   "id": "c2099a9a",
   "metadata": {},
   "source": [
    "1. 查看容器"
   ]
  },
  {
   "cell_type": "raw",
   "id": "4646e97c",
   "metadata": {},
   "source": [
    "docker ps -a"
   ]
  },
  {
   "cell_type": "raw",
   "id": "82c00674",
   "metadata": {},
   "source": [
    "CONTAINER ID   IMAGE          COMMAND   CREATED          STATUS          PORTS     NAMES\n",
    "91a147295d7b   ubuntu:18.04   \"bash\"    15 minutes ago   Up 15 minutes             standalone"
   ]
  },
  {
   "cell_type": "markdown",
   "id": "4be32926",
   "metadata": {},
   "source": [
    "2. 提交一个运行中的容器为镜像"
   ]
  },
  {
   "cell_type": "raw",
   "id": "d74e62e1",
   "metadata": {},
   "source": [
    "docker commit 91a147295d7b hadoop/ubuntu"
   ]
  },
  {
   "cell_type": "raw",
   "id": "6a2ca6a4",
   "metadata": {},
   "source": [
    "PS C:\\Windows\\system32> docker commit 91a147295d7b hadoop/ubuntu\n",
    "sha256:3e7211cdffe6e97c3cf34a21151ad9de35afc047aec03d540aa338d0405ea4aa"
   ]
  },
  {
   "cell_type": "markdown",
   "id": "ad1a563f",
   "metadata": {},
   "source": [
    "3. 复制文件 jdk-8u321-linux-x64.tar.gz，hadoop-2.7.7.tar.gz 到 E:\\Dockers\\pseudo"
   ]
  },
  {
   "cell_type": "markdown",
   "id": "c519984a",
   "metadata": {},
   "source": [
    "4. 运行镜像并添加端口"
   ]
  },
  {
   "cell_type": "raw",
   "id": "601f2b76",
   "metadata": {},
   "source": [
    "docker run  -itd -v E:/Dockers/pseudo/:/opt   -p 60070:50070  -p 9088:8088  --name pseudo --hostname pseudo hadoop/ubuntu"
   ]
  },
  {
   "cell_type": "markdown",
   "id": "888cf463",
   "metadata": {},
   "source": [
    "5. 进入 /opt 目录下"
   ]
  },
  {
   "cell_type": "raw",
   "id": "04f4ad1c",
   "metadata": {},
   "source": [
    "# bash\n",
    "# cd /opt\n",
    "# tar -xvf jdk-8u321-linux-x64.tar.gz\n",
    "# tar -xvf hadoop-2.7.7.tar.gz"
   ]
  },
  {
   "cell_type": "markdown",
   "id": "84d36b4f",
   "metadata": {},
   "source": [
    "6. 执行 source /etc/profile 生效"
   ]
  },
  {
   "cell_type": "raw",
   "id": "436ad408",
   "metadata": {},
   "source": [
    "# source /etc/profile"
   ]
  },
  {
   "cell_type": "markdown",
   "id": "88a51b77",
   "metadata": {},
   "source": [
    "7. 测试是否安装成功"
   ]
  },
  {
   "cell_type": "raw",
   "id": "43fb2c32",
   "metadata": {},
   "source": [
    "hadoop version"
   ]
  },
  {
   "cell_type": "markdown",
   "id": "44018442",
   "metadata": {},
   "source": [
    "## 启动 HDFS 并运行 MapReduce 程序"
   ]
  },
  {
   "cell_type": "markdown",
   "id": "e3ed1e53",
   "metadata": {},
   "source": [
    "1. 配置集群，修改 Hadoop 的配置文件（/opt/hadoop-2.7.7/etc/hadoop 目录下）"
   ]
  },
  {
   "cell_type": "raw",
   "id": "940b1bdc",
   "metadata": {},
   "source": [
    "cd /opt/hadoop-2.7.7/etc/hadoop"
   ]
  },
  {
   "cell_type": "markdown",
   "id": "f13682d9",
   "metadata": {},
   "source": [
    "① vim core-site.xml\n",
    "\n",
    "```\n",
    "<configuration>\n",
    "  <!-- 指定HDFS中NameNode的地址 -->\n",
    "  <property>\n",
    "    <name>fs.defaultFS</name>\n",
    "    <value>hdfs://pseudo:9000</value>\n",
    "  </property>\n",
    "\n",
    "  <!-- 指定Hadoop运行时产生文件的存储目录 -->\n",
    "  <property>\n",
    "    <name>hadoop.tmp.dir</name>\n",
    "    <value>/opt/hadoop-2.7.7/data/tmp</value>\n",
    "  </property>\n",
    "</configuration>\n",
    "\n",
    "```\n",
    "\n",
    " ② vim hadoop-env.sh\n",
    "\n",
    "   修改 JAVA_HOME 路径：\n",
    "   \n",
    "```\n",
    "# The java implementation to use.\n",
    "export JAVA_HOME=/opt/jdk1.8.0_321\n",
    "```\n",
    " ③ vim hdfs-site.xml\n",
    " \n",
    "```\n",
    "<configuration>\n",
    "  <!-- 指定HDFS副本的数量 -->\n",
    "  <property>\n",
    "    <name>dfs.replication</name>\n",
    "    <value>1</value>\n",
    "  </property>\n",
    "</configuration>\n",
    "```\n",
    "2. 启动集群\n",
    "\n",
    "① 格式化 NameNode（第一次启动时格式化，以后就不要总格式化）\n",
    "\n",
    "```\n",
    "hdfs namenode -format\n",
    "\n",
    "```\n",
    "\n",
    "② 启动 NameNode\n",
    "\n",
    "```\n",
    "hadoop-daemon.sh start namenode\n",
    "\n",
    "```\n",
    "③ 启动 DataNode\n",
    "\n",
    "```\n",
    "hadoop-daemon.sh start datanode\n",
    "\n",
    "```\n",
    "3. 查看集群\n",
    "\n",
    "① 查看是否启动成功\n",
    "\n",
    "```\n",
    "jps\n",
    "\n",
    "```"
   ]
  },
  {
   "cell_type": "raw",
   "id": "103bbb83",
   "metadata": {},
   "source": [
    "root@pseudo:/opt/hadoop-2.7.7/etc/hadoop# hadoop-daemon.sh start namenode\n",
    "chown: missing operand after '/opt/hadoop-2.7.7/logs'\n",
    "Try 'chown --help' for more information.\n",
    "starting namenode, logging to /opt/hadoop-2.7.7/logs/hadoop--namenode-pseudo.out\n",
    "root@pseudo:/opt/hadoop-2.7.7/etc/hadoop# hadoop-daemon.sh start datanode\n",
    "starting datanode, logging to /opt/hadoop-2.7.7/logs/hadoop--datanode-pseudo.out\n",
    "root@pseudo:/opt/hadoop-2.7.7/etc/hadoop# jps\n",
    "226 DataNode\n",
    "132 NameNode\n",
    "310 Jps"
   ]
  },
  {
   "cell_type": "markdown",
   "id": "b1e02231",
   "metadata": {},
   "source": [
    "② web 端查看 HDFS 文件系统\n",
    "\n",
    "http://localhost:60070/dfshealth.html#tab-overview"
   ]
  },
  {
   "cell_type": "markdown",
   "id": "c88c732e",
   "metadata": {},
   "source": [
    "4. 操作集群\n",
    "\n",
    "① 在 HDFS 文件系统上创建一个 input 文件夹\n",
    "\n",
    "```\n",
    "hdfs dfs -mkdir -p /usr/pseudo/input\n",
    "```"
   ]
  },
  {
   "cell_type": "markdown",
   "id": "af8e0717",
   "metadata": {},
   "source": [
    "5. 在 hadoop-2.7.7 文件下面创建一个 wcinput 文件夹\n",
    "```\n",
    "cd /opt/hadoop-2.7.7\n",
    "mkdir wcinput\n",
    "\n",
    "```\n",
    "6. 在 wcinput 文件下创建一个 wc.input 文件\n",
    "``\n",
    "cd wcinput\n",
    "vim wc.input\n",
    "```\n",
    "7. 在文件中输入以下内容：\n",
    "```\n",
    "hadoop yarn\n",
    "hadoop mapreduce\n",
    "spark\n",
    "spark\n",
    "```"
   ]
  },
  {
   "cell_type": "markdown",
   "id": "1110fb78",
   "metadata": {},
   "source": [
    "8. 将测试文件内容上传到文件系统上\n",
    "  \n",
    "```\n",
    "cd /opt/hadoop-2.7.7\n",
    "\n",
    "hdfs dfs -put wcinput/wc.input /usr/pseudo/input/\n",
    "```\n",
    "9. 在 hadoop-2.7.7 目录下，运行 MapReduce 程序\n",
    "```\n",
    "hadoop jar share/hadoop/mapreduce/hadoop-mapreduce-examples-2.7.7.jar wordcount /usr/pseudo/input/ /usr/pseudo/output\n",
    "```\n",
    "\n",
    "10. 查看输出结果\n",
    "\n",
    "\n",
    "命令行查看：\n",
    "```\n",
    "hdfs dfs -cat /usr/pseudo/output/*\n",
    "```"
   ]
  },
  {
   "cell_type": "raw",
   "id": "04512239",
   "metadata": {},
   "source": [
    "root@pseudo:/opt/hadoop-2.7.7# hdfs dfs -cat /usr/pseudo/output/*\n",
    "hadoop  2\n",
    "mapreduce       1\n",
    "spark   2\n",
    "yarn    1\n",
    "root@pseudo:/opt/hadoop-2.7.7#"
   ]
  },
  {
   "cell_type": "markdown",
   "id": "988edbc7",
   "metadata": {},
   "source": [
    "浏览器页面查看："
   ]
  },
  {
   "cell_type": "markdown",
   "id": "9f3f60f6",
   "metadata": {},
   "source": [
    "http://localhost:60070/explorer.html#/usr/pseudo/output"
   ]
  },
  {
   "cell_type": "markdown",
   "id": "6a66d960",
   "metadata": {},
   "source": [
    "##  启动 YARN 并运行 MapReduce 程序"
   ]
  },
  {
   "cell_type": "markdown",
   "id": "c1c0f739",
   "metadata": {},
   "source": [
    "配置集群，修改 Hadoop 的配置文件（/opt/hadoop-2.7.7/etc/hadoop 目录下）\n",
    "\n",
    "cd /opt/hadoop-2.7.7/etc/hadoop\n",
    "\n",
    "① vim yarn-site.xml\n",
    "\n",
    "```\n",
    "<configuration>\n",
    "  <!-- Reducer获取数据的方式 -->\n",
    "  <property>\n",
    "    <name>yarn.nodemanager.aux-services</name>\n",
    "    <value>mapreduce_shuffle</value>\n",
    "  </property>\n",
    "\n",
    "  <!-- 指定YARN的ResourceManager的地址 -->\n",
    "  <property>\n",
    "    <name>yarn.resourcemanager.hostname</name>\n",
    "    <value>pseudo</value>\n",
    "  </property>\n",
    "</configuration>\n",
    "\n",
    "```\n",
    " ② vim yarn-env.sh\n",
    "\n",
    "   修改 JAVA_HOME 路径：\n",
    "   \n",
    " ```\n",
    " export JAVA_HOME=/opt/jdk1.8.0_321\n",
    "```\n",
    "\n",
    " ③ vim mapred-env.sh\n",
    "\n",
    "   修改 JAVA_HOME 路径：\n",
    "   \n",
    "```\n",
    "export JAVA_HOME=/opt/jdk1.8.0_321\n",
    "\n",
    "```\n",
    "④ 将 mapred-site.xml.template 重新命名为 mapred-site.xml\n",
    "\n",
    "```\n",
    "mv mapred-site.xml.template mapred-site.xml\n",
    "vim mapred-site.xml\n",
    "\n",
    "```\n",
    "\n",
    "```\n",
    "<configuration>\n",
    "  <!-- 指定MR运行在YARN上 -->\n",
    "  <property>\n",
    "    <name>mapreduce.framework.name</name>\n",
    "    <value>yarn</value>\n",
    "  </property>\n",
    "</configuration>\n",
    "```\n",
    "2. 启动集群\n",
    "\n",
    "① 启动前必须保证 NameNode 和 DataNode 已经启动\n",
    "\n",
    "通过 jps 查看。\n",
    "\n",
    "② 启动 ResourceManager\n",
    "\n",
    "```\n",
    "yarn-daemon.sh start resourcemanager\n",
    "```\n",
    " ③ 启动NodeManager\n",
    " \n",
    "```\n",
    "yarn-daemon.sh start nodemanager\n",
    "```\n",
    "3. 查看集群\n",
    "\n",
    "① 查看是否启动成功\n",
    "\n",
    "jps\n"
   ]
  },
  {
   "cell_type": "raw",
   "id": "a2056864",
   "metadata": {},
   "source": [
    "root@pseudo:/opt/hadoop-2.7.7/etc/hadoop# jps\n",
    "226 DataNode\n",
    "132 NameNode\n",
    "612 ResourceManager\n",
    "996 Jps\n",
    "862 NodeManager\n",
    "root@pseudo:/opt/hadoop-2.7.7/etc/hadoop#"
   ]
  },
  {
   "cell_type": "markdown",
   "id": "5b76d3ff",
   "metadata": {},
   "source": [
    "② web 端查看 YARN 页面\n",
    "\n",
    "http://localhost:8088"
   ]
  },
  {
   "cell_type": "markdown",
   "id": "ea4312d5",
   "metadata": {},
   "source": [
    "4. 操作集群\n",
    "\n",
    "① 删除 HDFS 文件系统上的 output 文件\n",
    "\n",
    "```\n",
    "hdfs dfs -rm -R /usr/pseudo/output\n",
    "```\n",
    "\n",
    "② 在 hadoop-2.7.7 目录下，运行 MapReduce 程序\n",
    "\n",
    "```\n",
    "cd /opt/hadoop-2.7.7\n",
    "hadoop jar share/hadoop/mapreduce/hadoop-mapreduce-examples-2.7.7.jar wordcount /usr/pseudo/input  /usr/pseudo/output\n",
    "\n",
    "```\n",
    " ③ 查看运行结果\n",
    "\n",
    "   命令行查看：\n",
    "   \n",
    "```\n",
    "hdfs dfs -cat /usr/pseudo/output/*\n",
    "```"
   ]
  },
  {
   "cell_type": "raw",
   "id": "1a053338",
   "metadata": {},
   "source": [
    "root@pseudo:/opt/hadoop-2.7.7# hdfs dfs -cat /usr/pseudo/output/*\n",
    "hadoop  2\n",
    "mapreduce       1\n",
    "spark   2\n",
    "yarn    1\n",
    "root@pseudo:/opt/hadoop-2.7.7#"
   ]
  },
  {
   "cell_type": "markdown",
   "id": "44e09358",
   "metadata": {},
   "source": [
    "浏览器页面查看："
   ]
  },
  {
   "cell_type": "markdown",
   "id": "6f1725a0",
   "metadata": {},
   "source": [
    "http://localhost:60070/explorer.html#/usr/pseudo/output"
   ]
  },
  {
   "cell_type": "markdown",
   "id": "d2bb22d3",
   "metadata": {},
   "source": [
    "## 配置历史服务器"
   ]
  },
  {
   "cell_type": "markdown",
   "id": "3dec4d66",
   "metadata": {},
   "source": [
    "为了查看程序的历史运行情况，需要配置一下历史服务器（/opt/hadoop-2.7.7/etc/hadoop 目录下）。\n",
    "\n",
    "cd /opt/hadoop-2.7.7/etc/hadoop \n",
    "\n",
    "\n",
    "1. 配置 mapred-site.xml\n",
    "\n",
    "在该文件里面增加以下配置：\n",
    "\n",
    "```\n",
    "  <!-- 历史服务器端地址 -->\n",
    "  <property>\n",
    "    <name>mapreduce.jobhistory.address</name>\n",
    "    <value>pseudo:10020</value>\n",
    "  </property>\n",
    "\n",
    "  <!-- 历史服务器web端地址 -->\n",
    "  <property>\n",
    "     <name>mapreduce.jobhistory.webapp.address</name>\n",
    "     <value>pseudo:19888</value>\n",
    "  </property>\n",
    "```\n",
    "2. 启动历史服务器\n",
    "\n",
    "```\n",
    "mr-jobhistory-daemon.sh start historyserver\n",
    "```\n",
    "3. 查看历史服务器是否启动\n",
    "\n",
    "jps"
   ]
  },
  {
   "cell_type": "raw",
   "id": "22bc4e0d",
   "metadata": {},
   "source": [
    "root@pseudo:/opt/hadoop-2.7.7/etc/hadoop# jps\n",
    "226 DataNode\n",
    "132 NameNode\n",
    "612 ResourceManager\n",
    "1545 JobHistoryServer\n",
    "1594 Jps\n",
    "862 NodeManager\n",
    "root@pseudo:/opt/hadoop-2.7.7/etc/hadoop#"
   ]
  },
  {
   "cell_type": "markdown",
   "id": "318216a7",
   "metadata": {},
   "source": [
    "4. 查看 JobHistory\n",
    "\n",
    "http://localhost:19888/"
   ]
  },
  {
   "cell_type": "raw",
   "id": "03de7314",
   "metadata": {},
   "source": [
    "思考：在容器运行情况下，如何增加端口19888？"
   ]
  },
  {
   "cell_type": "markdown",
   "id": "690ae493",
   "metadata": {},
   "source": [
    "##### 给已存在的容器添加端口映射的方法"
   ]
  },
  {
   "cell_type": "markdown",
   "id": "f64b7736",
   "metadata": {},
   "source": [
    "1. 查找当前容器 id 和 ip"
   ]
  },
  {
   "cell_type": "markdown",
   "id": "e2593e18",
   "metadata": {},
   "source": [
    "在PowerShell终端中依次输入:\n",
    "\n",
    "docker inspect pseudo"
   ]
  },
  {
   "cell_type": "raw",
   "id": "8a4684c5",
   "metadata": {},
   "source": [
    "当前容器 Id: c420b1a10ee73f6dc0f9eea0f89e4c3f58a5dda4e255edd5f61af3a4a3b652d4\n",
    "当前容器 IPAddress 172.17.0.3"
   ]
  },
  {
   "cell_type": "markdown",
   "id": "fcfdfd1f",
   "metadata": {},
   "source": [
    "2.  容器配置文件地址"
   ]
  },
  {
   "cell_type": "markdown",
   "id": "fc20e894",
   "metadata": {},
   "source": [
    "首先得找到容器配置文件地址，容器的配置文件目录在："
   ]
  },
  {
   "cell_type": "raw",
   "id": "93cb92f3",
   "metadata": {},
   "source": [
    "\\\\wsl$\\docker-desktop-data\\version-pack-data\\community\\docker\\containers"
   ]
  },
  {
   "cell_type": "markdown",
   "id": "19d0b60a",
   "metadata": {},
   "source": [
    "在PowerShell终端中依次输入:"
   ]
  },
  {
   "cell_type": "raw",
   "id": "767d7cec",
   "metadata": {},
   "source": [
    "cd \\\\wsl$\\docker-desktop-data\\version-pack-data\\community\\docker\\containers\n",
    "explorer.exe .    #唤起 Windows 资源管理器，注意后面的.号"
   ]
  },
  {
   "cell_type": "markdown",
   "id": "12f64b32",
   "metadata": {},
   "source": [
    "3. 文件夹的名字是相应的容器ID"
   ]
  },
  {
   "cell_type": "markdown",
   "id": "e48a556e",
   "metadata": {},
   "source": [
    "打开对应发行版的 WSL 网络位置之后，文件夹的名字是相应的容器ID，打开后修改其中的 config.v2.json 和 hostconfig.json，用 Windows 的记事本都可以。"
   ]
  },
  {
   "cell_type": "markdown",
   "id": "1142d92d",
   "metadata": {},
   "source": [
    "- 修改：config.v2.json ："
   ]
  },
  {
   "cell_type": "code",
   "execution_count": null,
   "id": "09aab533",
   "metadata": {},
   "outputs": [],
   "source": [
    "\"AttachStderr\":false,\"ExposedPorts\":{\"4145/tcp\":{}},\n",
    "                                     \n",
    "                                     \"Service\":null,\"Ports\":{\"4145/tcp\":[{\"HostIp\":\"0.0.0.0\",\"HostPort\":\"4145\"}],"
   ]
  },
  {
   "cell_type": "raw",
   "id": "8090f95b",
   "metadata": {},
   "source": [
    "\"ExposedPorts\" 增加 \"19888/tcp\":{}, \n",
    "    \n",
    "\"Ports\" 增加 \"19888/tcp\":[{\"HostIp\":\"0.0.0.0\",\"HostPort\":\"19888\"}],"
   ]
  },
  {
   "cell_type": "raw",
   "id": "76f1eba0",
   "metadata": {},
   "source": [
    "\"ExposedPorts\" 增加 \"9000/tcp\":{}, \n",
    "    \n",
    "\"Ports\" 增加 \"9000/tcp\":[{\"HostIp\":\"0.0.0.0\",\"HostPort\":\"9000\"}],"
   ]
  },
  {
   "cell_type": "markdown",
   "id": "d8423e3f",
   "metadata": {},
   "source": [
    "- 修改： hostconfig.json"
   ]
  },
  {
   "cell_type": "code",
   "execution_count": null,
   "id": "9fbd1c79",
   "metadata": {},
   "outputs": [],
   "source": [
    " \"4145/tcp\":[{\"HostIp\":\"\",\"HostPort\":\"4145\"}]"
   ]
  },
  {
   "cell_type": "raw",
   "id": "dd645a2f",
   "metadata": {},
   "source": [
    "\"PortBindings\" 增加 \"19888/tcp\":[{\"HostIp\":\"\",\"HostPort\":\"19888\"}],"
   ]
  },
  {
   "cell_type": "raw",
   "id": "fa88d952",
   "metadata": {},
   "source": [
    "\"PortBindings\" 增加 \"9000/tcp\":[{\"HostIp\":\"\",\"HostPort\":\"9000\"}],"
   ]
  },
  {
   "cell_type": "markdown",
   "id": "6f9741d2",
   "metadata": {},
   "source": [
    "4. 重启Docker服务"
   ]
  },
  {
   "cell_type": "markdown",
   "id": "061db7ce",
   "metadata": {},
   "source": [
    "要重启整个Docker服务，不是直接去 Docker Desktop 重启 Container （如果你不小心启动了 Container ，上面的配置会被还原，请你再改一次，然后这次就不要忘记 Restart Docker 服务了），在系统右下角，重启整个 Docker 服务，然后再重启 Container 即可正常使用。"
   ]
  },
  {
   "cell_type": "markdown",
   "id": "ba68a006",
   "metadata": {},
   "source": [
    "5. 查看效果"
   ]
  },
  {
   "attachments": {
    "image.png": {
     "image/png": "[encoded data removed]"
    }
   },
   "cell_type": "markdown",
   "id": "25db49b4",
   "metadata": {},
   "source": [
    "![image.png](attachment:image.png)"
   ]
  },
  {
   "cell_type": "markdown",
   "id": "89cdcc2f",
   "metadata": {},
   "source": [
    "6. 在PowerShell终端中查看\n",
    "\n",
    "docker inspect pseudo"
   ]
  },
  {
   "cell_type": "raw",
   "id": "fb0aec69",
   "metadata": {},
   "source": [
    " \"Ports\": {\n",
    "                \"19888/tcp\": [\n",
    "                    {\n",
    "                        \"HostIp\": \"0.0.0.0\",\n",
    "                        \"HostPort\": \"19888\"\n",
    "                    }\n",
    "                ],\n",
    "                \"9000/tcp\": [\n",
    "                    {\n",
    "                        \"HostIp\": \"0.0.0.0\",\n",
    "                        \"HostPort\": \"9000\"\n",
    "                    }\n",
    "                ],\n",
    "                \"50070/tcp\": [\n",
    "                    {\n",
    "                        \"HostIp\": \"0.0.0.0\",\n",
    "                        \"HostPort\": \"60070\"\n",
    "                    }\n",
    "                ],\n",
    "                \"8088/tcp\": [\n",
    "                    {\n",
    "                        \"HostIp\": \"0.0.0.0\",\n",
    "                        \"HostPort\": \"8088\"\n",
    "                    }\n",
    "                ]"
   ]
  },
  {
   "cell_type": "markdown",
   "id": "77411470",
   "metadata": {},
   "source": [
    "7. 重新进入容器启动"
   ]
  },
  {
   "cell_type": "raw",
   "id": "2734af6a",
   "metadata": {},
   "source": [
    "# bash\n",
    "# source /etc/profile\n",
    "# jps\n",
    "\n",
    "28 Jps"
   ]
  },
  {
   "cell_type": "raw",
   "id": "bc2cad7a",
   "metadata": {},
   "source": [
    "# hadoop-daemon.sh start namenode\n",
    "# hadoop-daemon.sh start datanode\n",
    "# jps\n",
    "\n",
    "70 NameNode\n",
    "263 Jps\n",
    "173 DataNode\n"
   ]
  },
  {
   "cell_type": "raw",
   "id": "bd9131d8",
   "metadata": {},
   "source": [
    "# yarn-daemon.sh start resourcemanager\n",
    "# yarn-daemon.sh start nodemanager\n",
    "# jps\n",
    "\n",
    "562 NodeManager\n",
    "723 Jps\n",
    "70 NameNode\n",
    "311 ResourceManager\n",
    "173 DataNode\n"
   ]
  },
  {
   "cell_type": "raw",
   "id": "5fabb860",
   "metadata": {},
   "source": [
    "# mr-jobhistory-daemon.sh start historyserver\n",
    "# jps\n",
    "\n",
    "562 NodeManager\n",
    "774 JobHistoryServer\n",
    "70 NameNode\n",
    "311 ResourceManager\n",
    "823 Jps\n",
    "173 DataNode\n",
    "root@pseudo:/#"
   ]
  },
  {
   "cell_type": "markdown",
   "id": "7aa78c4f",
   "metadata": {},
   "source": [
    "## 配置日志的聚集"
   ]
  },
  {
   "cell_type": "markdown",
   "id": "e2e4cb86",
   "metadata": {},
   "source": [
    " 日志聚集概念：应用运行完成以后，将程序运行日志信息上传到 HDFS 系统上。\n",
    " \n",
    "  日志聚集功能好处：可以方便的查看到程序运行详情，方便开发调试。\n",
    "\n",
    "  注意：开启日志聚集功能，需要重新启动 NodeManager 、ResourceManager 和 HistoryManager。\n",
    "\n",
    "1. 关闭 NodeManager 、ResourceManager 和 HistoryManager\n",
    "\n",
    "```\n",
    "yarn-daemon.sh stop resourcemanager\n",
    "\n",
    "yarn-daemon.sh stop nodemanager\n",
    "\n",
    "mr-jobhistory-daemon.sh stop historyserver\n",
    "\n",
    "```\n",
    "2. 配置 yarn-site.xml\n",
    "\n",
    "```\n",
    "cd /opt/hadoop-2.7.7/etc/hadoop\n",
    "vim yarn-site.xml\n",
    "```\n",
    "\n",
    "在该文件里面增加以下配置：\n",
    "\n",
    "```\n",
    "  <!-- 日志聚集功能使能 -->\n",
    "  <property>\n",
    "    <name>yarn.log-aggregation-enable</name>\n",
    "    <value>true</value>\n",
    "  </property>\n",
    "\n",
    "  <!-- 日志保留时间设置7天 -->\n",
    "  <property>\n",
    "    <name>yarn.log-aggregation.retain-seconds</name>\n",
    "  <value>604800</value>\n",
    "  </property>\n",
    "\n",
    "```\n",
    "3. 启动 NodeManager 、ResourceManager 和 HistoryManager\n",
    "\n",
    "```\n",
    "yarn-daemon.sh start resourcemanager\n",
    "\n",
    "yarn-daemon.sh start nodemanager\n",
    "\n",
    "mr-jobhistory-daemon.sh start historyserver\n",
    "\n",
    "```\n",
    "4. 删除HDFS上已经存在的输出文件\n",
    "\n",
    "```\n",
    "hdfs dfs -rm -R /usr/pseudo/output\n",
    "\n",
    "```\n",
    "5. 在 hadoop-2.7.7 目录下，执行 WordCount 程序\n",
    "\n",
    "```\n",
    "cd /opt/hadoop-2.7.7 \n",
    "hadoop jar share/hadoop/mapreduce/hadoop-mapreduce-examples-2.7.7.jar wordcount /usr/pseudo/input /usr/pseudo/output\n",
    "```\n",
    "\n",
    "6. 查看日志\n",
    "\n",
    "http://localhost:19888/jobhistory"
   ]
  },
  {
   "attachments": {
    "image.png": {
     "image/png": "[encoded data removed]"
    }
   },
   "cell_type": "markdown",
   "id": "621e9505",
   "metadata": {},
   "source": [
    "![image.png](attachment:image.png)"
   ]
  },
  {
   "cell_type": "markdown",
   "id": "c2f925f1",
   "metadata": {},
   "source": [
    "# 完全分布式运行模式（Cluster）"
   ]
  },
  {
   "cell_type": "markdown",
   "id": "02976ae6",
   "metadata": {},
   "source": [
    "## 创建子网络"
   ]
  },
  {
   "cell_type": "markdown",
   "id": "834fefe2",
   "metadata": {},
   "source": [
    "注意：网络段不要和主机网络段冲突，要不然会影响宿主机"
   ]
  },
  {
   "cell_type": "raw",
   "id": "160cf271",
   "metadata": {},
   "source": [
    "PS C:\\Windows\\system32> docker network ls\n",
    "NETWORK ID     NAME      DRIVER    SCOPE\n",
    "157ac007dc4a   bridge    bridge    local\n",
    "3cc225136532   host      host      local\n",
    "3005dface25b   none      null      local\n",
    "PS C:\\Windows\\system32>"
   ]
  },
  {
   "cell_type": "raw",
   "id": "1b1e7590",
   "metadata": {},
   "source": [
    "docker network create --driver bridge --subnet 172.22.16.0/24 --gateway 172.22.16.1 hadoop"
   ]
  },
  {
   "cell_type": "raw",
   "id": "7b8c54db",
   "metadata": {},
   "source": [
    "PS C:\\Windows\\system32> docker network create --driver bridge --subnet 172.22.16.0/24 --gateway 172.22.16.1 hadoop\n",
    "8b3a9d0cf1d77a59c28a26e2d94fe5ec43fe3ee5fa4ea1df792484a46d8e1097"
   ]
  },
  {
   "cell_type": "raw",
   "id": "980e8340",
   "metadata": {},
   "source": [
    "PS C:\\Windows\\system32> docker network inspect hadoop\n",
    "[\n",
    "    {\n",
    "        \"Name\": \"hadoop\",\n",
    "        \"Id\": \"ea4c23f6e05f4f30add4154537cba50b4a256ed915f518768afe9c7fec692671\",\n",
    "        \"Created\": \"2022-05-22T02:45:24.623634Z\",\n",
    "        \"Scope\": \"local\",\n",
    "        \"Driver\": \"bridge\",\n",
    "        \"EnableIPv6\": false,\n",
    "        \"IPAM\": {\n",
    "            \"Driver\": \"default\",\n",
    "            \"Options\": {},\n",
    "            \"Config\": [\n",
    "                {\n",
    "                    \"Subnet\": \"172.22.16.0/24\",\n",
    "                    \"Gateway\": \"172.22.16.1\"\n",
    "                }\n",
    "            ]\n",
    "        },\n",
    "        \"Internal\": false,\n",
    "        \"Attachable\": false,\n",
    "        \"Ingress\": false,\n",
    "        \"ConfigFrom\": {\n",
    "            \"Network\": \"\"\n",
    "        },\n",
    "        \"ConfigOnly\": false,\n",
    "        \"Containers\": {},\n",
    "        \"Options\": {},\n",
    "        \"Labels\": {}\n",
    "    }\n",
    "]"
   ]
  },
  {
   "cell_type": "markdown",
   "id": "bc41fa19",
   "metadata": {},
   "source": [
    "这里我们创建了新的 bridge 网络 hadoop,网段为172.22.16.0/24,网关为172.22.16.1"
   ]
  },
  {
   "cell_type": "raw",
   "id": "e1a05de1",
   "metadata": {},
   "source": [
    "PS C:\\Windows\\system32> docker network ls\n",
    "NETWORK ID     NAME      DRIVER    SCOPE\n",
    "157ac007dc4a   bridge    bridge    local\n",
    "ea4c23f6e05f   hadoop    bridge    local\n",
    "3cc225136532   host      host      local\n",
    "3005dface25b   none      null      local"
   ]
  },
  {
   "cell_type": "raw",
   "id": "62247c95",
   "metadata": {},
   "source": [
    "备注：如果要删除网络，请运行   docker network rm <NAME>"
   ]
  },
  {
   "cell_type": "markdown",
   "id": "95e05aa2",
   "metadata": {},
   "source": [
    "## 创建容器"
   ]
  },
  {
   "cell_type": "markdown",
   "id": "c16209d3",
   "metadata": {},
   "source": [
    "1. 创建文件夹："
   ]
  },
  {
   "cell_type": "raw",
   "id": "19f5a443",
   "metadata": {},
   "source": [
    "E:\\Dockers\\cluster\n",
    "├── master\n",
    "├── slave1\n",
    "└── slave2"
   ]
  },
  {
   "cell_type": "markdown",
   "id": "5516fac7",
   "metadata": {},
   "source": [
    "2. 复制文件 jdk-8u321-linux-x64.tar.gz，hadoop-2.7.7.tar.gz 分别到 master、slave1、slave2文件夹下。"
   ]
  },
  {
   "cell_type": "markdown",
   "id": "18a32b19",
   "metadata": {},
   "source": [
    "4. 运行镜像并添加端口"
   ]
  },
  {
   "cell_type": "markdown",
   "id": "c6e99b7a",
   "metadata": {},
   "source": [
    "主机名称\t| IP 地址\n",
    "---|---\n",
    "master\t|172.22.16.130\n",
    "slave1\t|172.22.16.131\n",
    "slave2\t|172.22.16.132"
   ]
  },
  {
   "cell_type": "markdown",
   "id": "e8caa726",
   "metadata": {},
   "source": [
    "- master"
   ]
  },
  {
   "cell_type": "raw",
   "id": "a08f931d",
   "metadata": {},
   "source": [
    "docker run  -itd -privileged -v E:/Dockers/cluster/master/:/opt   -p 2181:2181 -p 3888:3888 -p 4040:4040 -p 3306:3306 -p 50070:50070 -p 6000:6000 -p 9870:9870 -p 8080:8080 -p 8081:8081 -p 8088:8088 -p 8649:8649 -p 22:22 -p 9000:9000 -p 9083:9083 -p 9090:9090 -p 10000:10000 -p 12345:12345 -p 44444:44444  -p 19888:19888 --name master --hostname master --network=hadoop --ip 172.22.16.130  hadoop/ubuntu"
   ]
  },
  {
   "cell_type": "markdown",
   "id": "3396e014",
   "metadata": {},
   "source": [
    "备注：hyper-v 会保留部分 tcp 端口, 使用命令:"
   ]
  },
  {
   "cell_type": "raw",
   "id": "507403b1",
   "metadata": {},
   "source": [
    "netsh interface ipv4 show excludedportrange protocol=tcp"
   ]
  },
  {
   "cell_type": "raw",
   "id": "25d88ee3",
   "metadata": {},
   "source": [
    "PS C:\\Windows\\system32> netsh interface ipv4 show excludedportrange protocol=tcp\n",
    "\n",
    "协议 tcp 端口排除范围\n",
    "\n",
    "开始端口    结束端口\n",
    "----------    --------\n",
    "      1090        1189\n",
    "      1190        1289\n",
    "      1290        1389\n",
    "      1390        1489\n",
    "      1490        1589\n",
    "      1590        1689\n",
    "      1690        1789\n",
    "      1906        2005\n",
    "     50000       50059     *\n",
    "\n",
    "* - 管理的端口排除。\n",
    "\n",
    "PS C:\\Windows\\system32>"
   ]
  },
  {
   "cell_type": "markdown",
   "id": "51f005a3",
   "metadata": {},
   "source": [
    "如果发现端口在排除范围之内, 需要修改启动命令(主要是修改端口)。"
   ]
  },
  {
   "cell_type": "markdown",
   "id": "8d5bfce0",
   "metadata": {},
   "source": [
    "- slave1"
   ]
  },
  {
   "cell_type": "raw",
   "id": "61572d79",
   "metadata": {},
   "source": [
    "docker run  -itd -privileged -p 4145:4145 -p 8650:8650 -v E:/Dockers/cluster/slave1/:/opt    --name slave1 --hostname slave1 --network=hadoop --ip 172.22.16.131  hadoop/ubuntu"
   ]
  },
  {
   "cell_type": "markdown",
   "id": "572f4674",
   "metadata": {},
   "source": [
    "- slave2"
   ]
  },
  {
   "cell_type": "raw",
   "id": "aa099be3",
   "metadata": {},
   "source": [
    "docker run  -itd -privileged -p 4146:4146 -p 8651:8651 -v E:/Dockers/cluster/slave2/:/opt    --name slave2 --hostname slave2  --network=hadoop --ip 172.22.16.132 hadoop/ubuntu"
   ]
  },
  {
   "cell_type": "raw",
   "id": "2d34937a",
   "metadata": {},
   "source": [
    "3. 每台容器分别修改 /etc/hosts 文件，将每个机器的 hostname 和 ip 对应\n",
    "\n",
    "```\n",
    "bash\n",
    "vim /etc/hosts\n",
    "\n",
    "```\n",
    "增加如下:\n",
    "```\n",
    "172.22.16.130 master\n",
    "172.22.16.131 slave1\n",
    "172.22.16.132 slave2\n",
    "\n",
    "```"
   ]
  },
  {
   "cell_type": "markdown",
   "id": "1e4b9f2a",
   "metadata": {},
   "source": [
    "4. 每台容器分别解压"
   ]
  },
  {
   "cell_type": "raw",
   "id": "9ec86543",
   "metadata": {},
   "source": [
    "进入 /opt 目录下"
   ]
  },
  {
   "cell_type": "raw",
   "id": "3c05e126",
   "metadata": {},
   "source": [
    "# cd /opt"
   ]
  },
  {
   "cell_type": "raw",
   "id": "8eb1e31e",
   "metadata": {},
   "source": [
    "# tar -xvf jdk-8u321-linux-x64.tar.gz"
   ]
  },
  {
   "cell_type": "raw",
   "id": "cb7b387f",
   "metadata": {},
   "source": [
    "# tar -xvf hadoop-2.7.7.tar.gz"
   ]
  },
  {
   "cell_type": "markdown",
   "id": "2a7d940c",
   "metadata": {},
   "source": [
    "5. 执行 source /etc/profile 生效"
   ]
  },
  {
   "cell_type": "raw",
   "id": "2273942e",
   "metadata": {},
   "source": [
    "# source /etc/profile"
   ]
  },
  {
   "cell_type": "markdown",
   "id": "53d974a9",
   "metadata": {},
   "source": [
    "7. 测试环境"
   ]
  },
  {
   "cell_type": "raw",
   "id": "5018be54",
   "metadata": {},
   "source": [
    "# hadoop version"
   ]
  },
  {
   "cell_type": "markdown",
   "id": "0577bfe4",
   "metadata": {},
   "source": [
    "## SSH免密登录"
   ]
  },
  {
   "cell_type": "markdown",
   "id": "359ffaae",
   "metadata": {},
   "source": [
    "1. 每台容器需要检查下ssh是否开启"
   ]
  },
  {
   "cell_type": "raw",
   "id": "8cf4ca5c",
   "metadata": {},
   "source": [
    "# 启动ssh\n",
    "/etc/init.d/ssh start"
   ]
  },
  {
   "cell_type": "raw",
   "id": "074d1c0f",
   "metadata": {},
   "source": [
    "# 检查ssh是否开启\n",
    "/etc/init.d/ssh status"
   ]
  },
  {
   "cell_type": "markdown",
   "id": "430d15e5",
   "metadata": {},
   "source": [
    "2. 使用 ssh master\\slave1\\slave2 检查是否成功"
   ]
  },
  {
   "cell_type": "raw",
   "id": "17f3c231",
   "metadata": {},
   "source": [
    "# 如果不提示输入密码则SSH无密登陆配置成功\n",
    "ssh master\\slave1\\slave2"
   ]
  },
  {
   "cell_type": "markdown",
   "id": "7ba548a3",
   "metadata": {},
   "source": [
    "## 编写集群分发脚本 xsync"
   ]
  },
  {
   "cell_type": "markdown",
   "id": "294893ea",
   "metadata": {},
   "source": [
    "1. scp（secure copy）安全拷贝\n",
    "\n",
    "① scp 定义：\n",
    "\n",
    "  scp 可以实现服务器与服务器之间的数据拷贝。\n",
    "\n",
    "② 基本语法：\n",
    "\n",
    "```\n",
    "scp   -r     $pdir/$fname          $user@hadoop$host:$pdir/$fname\n",
    "\n",
    "命令   递归   要拷贝的文件路径/名称    目的用户@主机:目的路径/名称\n",
    "\n",
    "# 例：远程把 Hadoop101 上的 /opt/module 拷贝到 Hadoop102 相同的位置\n",
    "scp  -r  hadoop101:/opt/module/hadoop-3.2.1  hadoop102:/opt/module\n",
    "\n",
    "# **注意**：拷贝过来的/opt/module目录，别忘了在hadoop102等目标主机上修改文件的所有者和所有者组。\n",
    "sudo chown xqzhao:xqzhao -R /opt/module\n",
    "\n",
    "# **注意**：拷贝过来的配置文件别忘了source一下/etc/profile，。\n",
    "source /etc/profile\n",
    "\n",
    "\n",
    "```\n",
    "2. rsync（remote synchronize）远程同步工具\n",
    "\n",
    "① rsync 定义：\n",
    "\n",
    "  rsync 主要用于备份和镜像。具有速度快、避免复制相同内容和支持符号链接的优点。\n",
    "\n",
    "  rsync 和 scp 区别：用 rsync 做文件的复制要比 scp 的速度快，rsync 只对差异文件做更新。scp 是把所有文件都复制过去。\n",
    "\n",
    "② 基本语法：\n",
    "\n",
    "```\n",
    "rsync   -av        $pdir/$fname          $user@hadoop$host:$pdir/$fname\n",
    "命令     选项参数    要拷贝的文件路径/名称    目的用户@主机:目的路径/名称\n",
    "\n",
    "# 例：远程把 Hadoop101 上的 /opt/module 拷贝到 Hadoop102 相同的位置\n",
    "rsync  -av  hadoopl01:/opt/module/hadoop-3.2.1  /opt/module\n",
    "\n",
    "\n",
    "```\n",
    "  说明：-a:归档拷贝、-v：显示复制过程\n",
    "  \n",
    "  注：归档拷贝：完完全全拷贝\n",
    "\n",
    "3. xsync 集群分发脚本\n",
    "\n",
    "编写xsync集群分发脚本之前先要在本机以及目的机器上面安装xsync，然后才能使用脚本分发，安装命令为：apt-get -y install rsync\n",
    "\n",
    "需求：循环复制文件到所有节点的相同目录下\n",
    "\n",
    "需求分析：\n",
    "\n",
    "- rsync命令原始拷贝,如：rsync  -av     /opt/module   mischen@hadoop103:/opt/\n",
    "\n",
    "- 期望脚本：xsync要同步的文件名称\n",
    "\n",
    "- 期望脚本在任何路径都能使用（脚本放在声明了全局环境变量的路径）\n",
    "\n",
    "```\n",
    "echo $PATH\n",
    "\n",
    "```\n",
    "- 脚本实现：\n",
    "\n",
    "① 在 /usr/local/bin 目录下创建 xsync 文件\n",
    "\n",
    "```\n",
    "cd /usr/local/bin\n",
    "vim xsync\n",
    "\n",
    "```\n",
    " 在文件中输入以下内容：\n",
    " \n",
    "\n"
   ]
  },
  {
   "cell_type": "raw",
   "id": "7ba34fc3",
   "metadata": {},
   "source": [
    "#!/bin/bash\n",
    "#1 获取输入参数个数，如果没有参数，直接退出\n",
    "pcount=$#\n",
    "if((pcount==0)); then\n",
    "    echo no args;\n",
    "    exit;\n",
    "fi\n",
    "\n",
    "#2 获取文件名称\n",
    "p1=$1\n",
    "fname=`basename $p1`\n",
    "echo fname=$fname\n",
    "\n",
    "#3 获取上级目录到绝对路径\n",
    "pdir=`cd -P $(dirname $p1); pwd`\n",
    "echo pdir=$pdir\n",
    "\n",
    "#4 获取当前用户名称\n",
    "user=`whoami`\n",
    "\n",
    "#5 循环\n",
    "for i in master slave1 slave2\n",
    "  do\n",
    "    echo \"****************** $i *********************\"\n",
    "    rsync -av $pdir/$fname $user@$i:$pdir\n",
    "  done"
   ]
  },
  {
   "cell_type": "markdown",
   "id": "6d687563",
   "metadata": {},
   "source": [
    "② 修改脚本 xsync 具有执行权限\n",
    "\n",
    "```\n",
    "chmod 777 xsync\n",
    "\n",
    "```\n",
    "③ 调用脚本形式：\n",
    "\n",
    "```\n",
    "xsync 文件夹名称\n",
    "\n",
    "```"
   ]
  },
  {
   "cell_type": "raw",
   "id": "245ed4c1",
   "metadata": {},
   "source": [
    "注：xsync创建完成之后，通过xsync脚本将Java和Hadoop的安装文件分发到集群中的其他容器中的相应文件夹。并且不要忘记在 /etc/profile 中检查配置 java、hadoop 环境\n",
    "\n",
    "注：可以先进行集群配置，然后再将配置好的Hadoop分发至其他机器。"
   ]
  },
  {
   "cell_type": "raw",
   "id": "7cdf9150",
   "metadata": {},
   "source": [
    "示例：这里可以忽略\n",
    "xsync hadoop-2.7.7\n",
    "xsync jdk1.8.0_321"
   ]
  },
  {
   "cell_type": "markdown",
   "id": "cdbaf0a1",
   "metadata": {},
   "source": [
    "在其他容器重启环境："
   ]
  },
  {
   "cell_type": "raw",
   "id": "e6ba069e",
   "metadata": {},
   "source": [
    "source /etc/profile"
   ]
  },
  {
   "cell_type": "markdown",
   "id": "ee65af04",
   "metadata": {},
   "source": [
    "##  集群配置"
   ]
  },
  {
   "cell_type": "markdown",
   "id": "25c2a0e5",
   "metadata": {},
   "source": [
    "### 部署规划"
   ]
  },
  {
   "cell_type": "markdown",
   "id": "3e8c9319",
   "metadata": {},
   "source": [
    "集群部署规划:\n",
    "\n",
    "<table><thead><tr><th></th><th>master</th><th>slave1</th><th>slave2</th></tr></thead><tbody><tr><td>HDFS</td><td>NameNode <br> DataNode</td><td>DataNode</td><td>SecondaryNameNode<br>DataNode</td></tr><tr><td>YARN</td><td>NodeManager</td><td>ResourceManager<br>NodeManager</td><td>NodeManager</td></tr></tbody></table>\n"
   ]
  },
  {
   "cell_type": "markdown",
   "id": "56284b74",
   "metadata": {},
   "source": [
    "### 配置集群"
   ]
  },
  {
   "cell_type": "markdown",
   "id": "3a4ec4be",
   "metadata": {},
   "source": [
    "\n",
    "2. 配置集群（/opt/hadoop-2.7.7/etc/hadoop 目录下）。\n",
    "\n",
    "⑴ 配置核心文件\n",
    "\n",
    "  配置 core-site.xml\n",
    "  \n",
    "```\n",
    "<configuration>\n",
    "  <!-- 指定HDFS中NameNode的地址 -->\n",
    "  <property>\n",
    "    <name>fs.defaultFS</name>\n",
    "    <value>hdfs://master:9000</value>\n",
    "  </property>\n",
    "\n",
    "  <!-- 指定Hadoop运行时产生文件的存储目录 -->\n",
    "  <property>\n",
    "    <name>hadoop.tmp.dir</name>\n",
    "    <value>/opt/hadoop-2.7.7/data/tmp</value>\n",
    "  </property>\n",
    "</configuration>\n",
    "\n",
    "```\n",
    "\n",
    " ⑵ HDFS 配置文件\n",
    "\n",
    "   ① 配置 hadoop-env.sh\n",
    "\n",
    "    修改 JAVA_HOME 路径：\n",
    "```\n",
    "# The java implementation to use.\n",
    "export JAVA_HOME=/opt/jdk1.8.0_321\n",
    "\n",
    "```\n",
    "  ② 配置 hdfs-site.xml\n",
    "  \n",
    "```\n",
    "\n",
    "<configuration>\n",
    "  <!-- 指定HDFS副本的数量 -->\n",
    "  <property>\n",
    "    <name>dfs.replication</name>\n",
    "    <value>3</value>\n",
    "  </property>\n",
    "  \n",
    "  <!-- 指定Hadoop辅助名称节点主机配置 -->\n",
    "  <property>\n",
    "    <name>dfs.namenode.secondary.http-address</name>\n",
    "    <value>slave2:50090</value>\n",
    "  </property>\n",
    "</configuration>\n",
    "\n",
    "```\n",
    "\n",
    "  ⑶ YARN 配置文件\n",
    "\n",
    "   ① 配置 yarn-env.sh\n",
    "\n",
    "   修改 JAVA_HOME 路径：\n",
    "   \n",
    " ```\n",
    " export JAVA_HOME=/opt/jdk1.8.0_321\n",
    "```\n",
    " ② 配置 yarn-site.xml\n",
    " \n",
    "```\n",
    "<configuration>\n",
    "  <!-- Reducer获取数据的方式 -->\n",
    "  <property>\n",
    "    <name>yarn.nodemanager.aux-services</name>\n",
    "    <value>mapreduce_shuffle</value>\n",
    "  </property>\n",
    "\n",
    "  <!-- 指定YARN的ResourceManager的地址 -->\n",
    "  <property>\n",
    "    <name>yarn.resourcemanager.hostname</name>\n",
    "    <value>slave1</value>\n",
    "  </property>\n",
    "\n",
    "  <!-- 日志聚集功能使能 -->\n",
    "  <property>\n",
    "    <name>yarn.log-aggregation-enable</name>\n",
    "    <value>true</value>\n",
    "  </property>\n",
    "\n",
    "  <!-- 日志保留时间设置7天 -->\n",
    "  <property>\n",
    "    <name>yarn.log-aggregation.retain-seconds</name>\n",
    "  <value>604800</value>\n",
    "  </property>\n",
    "</configuration>\n",
    "\n",
    "```\n",
    "  ⑷ MapReduce 配置文件\n",
    "\n",
    "   ① 配置 mapred-env.sh\n",
    "\n",
    "    修改 JAVA_HOME 路径：\n",
    "    \n",
    "```\n",
    "export JAVA_HOME=/opt/jdk1.8.0_321\n",
    "```\n",
    " ② 将 mapred-site.xml.template 重新命名为 mapred-site.xml\n",
    "\n",
    "```\n",
    "mv mapred-site.xml.template mapred-site.xml\n",
    "vim mapred-site.xml\n",
    "\n",
    "```\n",
    "\n",
    " \n",
    " ```\n",
    " <configuration>\n",
    "  <!-- 指定MR运行在YARN上 -->\n",
    "  <property>\n",
    "    <name>mapreduce.framework.name</name>\n",
    "    <value>yarn</value>\n",
    "  </property>\n",
    "\n",
    "  <!-- 历史服务器端地址 -->\n",
    "  <property>\n",
    "    <name>mapreduce.jobhistory.address</name>\n",
    "    <value>master:10020</value>\n",
    "  </property>\n",
    "\n",
    "  <!-- 历史服务器web端地址 -->\n",
    "  <property>\n",
    "     <name>mapreduce.jobhistory.webapp.address</name>\n",
    "     <value>master:19888</value>\n",
    "  </property>\n",
    "</configuration>\n",
    "\n",
    "```\n",
    "3. 在集群上分发配置好的 Hadoop 目录\n",
    "\n",
    "```\n",
    "cd ..\n",
    "xsync hadoop\n",
    "\n",
    "\n",
    "```"
   ]
  },
  {
   "cell_type": "raw",
   "id": "31ff81d6",
   "metadata": {},
   "source": [
    "注意：xsync集群分发脚本之前先要在本机以及目的机器上面安装xsync，然后才能使用脚本分发，安装命令为：apt-get -y install rsync"
   ]
  },
  {
   "cell_type": "markdown",
   "id": "d8c220e4",
   "metadata": {},
   "source": [
    "## 集群运行"
   ]
  },
  {
   "cell_type": "markdown",
   "id": "1c847921",
   "metadata": {},
   "source": [
    "###  集群单点启动"
   ]
  },
  {
   "cell_type": "markdown",
   "id": "aa861474",
   "metadata": {},
   "source": [
    "1. 如果集群是第一次启动，需要格式化 NameNode\n",
    "\n",
    "```\n",
    "hadoop namenode -format\n",
    "\n",
    "```\n",
    "2. 在 master上启动 NameNode\n",
    "\n",
    "```\n",
    "hadoop-daemon.sh start namenode\n",
    "\n",
    "```\n",
    "3. 在 master、slave1 和 slave2 上分别启动 DataNode\n",
    "\n",
    "```\n",
    "hadoop-daemon.sh start datanode\n",
    "\n",
    "```"
   ]
  },
  {
   "cell_type": "markdown",
   "id": "d2b97628",
   "metadata": {},
   "source": [
    "###  集群单点停止"
   ]
  },
  {
   "cell_type": "markdown",
   "id": "cb27cc78",
   "metadata": {},
   "source": [
    "1. 在 master、slave1 和 slave2 上分别启动 DataNode\n",
    "\n",
    "```\n",
    "hadoop-daemon.sh stop datanode\n",
    "\n",
    "```\n",
    "\n",
    "2. 在 master上停止 NameNode\n",
    "\n",
    "```\n",
    "hadoop-daemon.sh stop namenode\n",
    "\n",
    "```"
   ]
  },
  {
   "cell_type": "markdown",
   "id": "895761f2",
   "metadata": {},
   "source": [
    "###  群起集群"
   ]
  },
  {
   "cell_type": "markdown",
   "id": "89eae0b0",
   "metadata": {},
   "source": [
    "1. 配置 slaves（在 /opt/hadoop-2.7.7/etc/hadoop/ 目录下）\n",
    "\n",
    "vim slaves\n",
    "\n",
    "① 在该文件中增加如下内容：\n",
    "\n",
    "```\n",
    "master\n",
    "slave1\n",
    "slave2\n",
    "\n",
    "```\n",
    " 注意：该文件中添加的内容结尾不允许有空格，文件中不允许有空行。\n",
    "\n",
    "  ② 同步所有节点配置文件\n",
    "\n",
    "```\n",
    "xsync slaves\n",
    "```\n",
    "2. 启动集群\n",
    "\n",
    "① 如果集群是第一次启动，需要格式化全部容器 （注意格式化之前，一定要先停止上次启动的所有 namenode 和 datanode 进程，然后再删除 data 和 log 数据）\n",
    "\n",
    "```\n",
    "cd /opt/hadoop-2.7.7/\n",
    "rm -rf data\n",
    "rm -rf logs\n",
    "hdfs namenode -format\n",
    "\n",
    "```\n",
    "  ② 启动 HDFS\n",
    "  \n",
    "```\n",
    "start-dfs.sh\n",
    "```\n",
    "③ 启动 YARN（slave1 上）\n",
    "\n",
    "注意：NameNode 和 ResourceManger 如果不是同一台机器，不能在 NameNode 上启动 YARN，应该在 ResouceManager 所在的机器上启动 YARN。\n",
    "\n",
    "```\n",
    "start-yarn.sh\n",
    "\n",
    "```\n",
    "3. 编写查看集群所有节点 jps 脚本 alljps\n",
    "\n",
    "① 在 /usr/local/bin 目录下创建文件 alljps\n",
    "\n",
    "```\n",
    "vim alljps\n",
    "```\n",
    "在文件中输入以下内容：\n",
    "\n",
    "```\n",
    "#!/bin/bash\n",
    "\n",
    "for i in master slave1 slave2\n",
    "  do\n",
    "    echo \"****************** $i *********************\"\n",
    "    ssh $i \"source /etc/profile && jps\"\n",
    "  done\n",
    "```\n",
    "② 修改脚本 alljps 具有执行权限\n",
    "\n",
    "```\n",
    "chmod 777 alljps\n",
    "```\n",
    "③ 调用脚本形式：alljps"
   ]
  },
  {
   "cell_type": "raw",
   "id": "fc833331",
   "metadata": {},
   "source": [
    "root@master:/usr/local/bin# alljps\n",
    "****************** master *********************\n",
    "1345 Jps\n",
    "771 NameNode\n",
    "884 DataNode\n",
    "1196 NodeManager\n",
    "****************** slave1 *********************\n",
    "357 DataNode\n",
    "763 Jps\n",
    "479 ResourceManager\n",
    "****************** slave2 *********************\n",
    "432 SecondaryNameNode\n",
    "357 DataNode\n",
    "551 NodeManager\n",
    "701 Jps"
   ]
  },
  {
   "cell_type": "raw",
   "id": "611d71f7",
   "metadata": {},
   "source": [
    "1. 先在各节点启动：\n",
    "# bash\n",
    "\n",
    "2. 每台容器分别修改 /etc/hosts 文件，将每个机器的 hostname 和 ip 对应\n",
    "\n",
    "# vim /etc/hosts\n",
    "\n",
    "增加如下:\n",
    "\n",
    "```\n",
    "172.22.16.130 master\n",
    "172.22.16.131 slave1\n",
    "172.22.16.132 slave2\n",
    "\n",
    "```\n",
    "然后，每台容器分别\n",
    "\n",
    "# \n",
    "# /etc/init.d/ssh start\n",
    "\n",
    "3. 然后在master节点启动\n",
    "# start-dfs.sh\n",
    "\n",
    "然后再slave1节点启动\n",
    "# start-yarn.sh\n",
    "\n",
    "4. 在master节点测试：\n",
    "root@master:/# alljps\n",
    "****************** master *********************\n",
    "161 NameNode\n",
    "306 DataNode\n",
    "851 Jps\n",
    "684 NodeManager\n",
    "****************** slave1 *********************\n",
    "854 Jps\n",
    "361 NodeManager\n",
    "74 DataNode\n",
    "204 ResourceManager\n",
    "****************** slave2 *********************\n",
    "152 SecondaryNameNode\n",
    "74 DataNode\n",
    "282 NodeManager\n",
    "447 Jps\n",
    "root@master:/#"
   ]
  },
  {
   "cell_type": "markdown",
   "id": "12a66468",
   "metadata": {},
   "source": [
    "# 容器重启后集群启动方法"
   ]
  },
  {
   "cell_type": "code",
   "execution_count": null,
   "id": "cf8d2e91",
   "metadata": {},
   "outputs": [],
   "source": []
  }
 ],
 "metadata": {
  "kernelspec": {
   "display_name": "Python 3 (ipykernel)",
   "language": "python",
   "name": "python3"
  },
  "language_info": {
   "codemirror_mode": {
    "name": "ipython",
    "version": 3
   },
   "file_extension": ".py",
   "mimetype": "text/x-python",
   "name": "python",
   "nbconvert_exporter": "python",
   "pygments_lexer": "ipython3",
   "version": "3.9.13"
  },
  "toc": {
   "base_numbering": 1,
   "nav_menu": {},
   "number_sections": true,
   "sideBar": true,
   "skip_h1_title": false,
   "title_cell": "实验1 基于虚拟机搭建hadoop运行环境",
   "title_sidebar": "Contents",
   "toc_cell": true,
   "toc_position": {
    "height": "calc(100% - 180px)",
    "left": "10px",
    "top": "150px",
    "width": "279.263px"
   },
   "toc_section_display": true,
   "toc_window_display": true
  },
  "varInspector": {
   "cols": {
    "lenName": 16,
    "lenType": 16,
    "lenVar": 40
   },
   "kernels_config": {
    "python": {
     "delete_cmd_postfix": "",
     "delete_cmd_prefix": "del ",
     "library": "var_list.py",
     "varRefreshCmd": "print(var_dic_list())"
    },
    "r": {
     "delete_cmd_postfix": ") ",
     "delete_cmd_prefix": "rm(",
     "library": "var_list.r",
     "varRefreshCmd": "cat(var_dic_list()) "
    }
   },
   "types_to_exclude": [
    "module",
    "function",
    "builtin_function_or_method",
    "instance",
    "_Feature"
   ],
   "window_display": false
  }
 },
 "nbformat": 4,
 "nbformat_minor": 5
}
